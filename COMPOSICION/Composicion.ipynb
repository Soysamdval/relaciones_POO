{
 "cells": [
  {
   "cell_type": "code",
   "execution_count": null,
   "id": "f719a31a",
   "metadata": {
    "vscode": {
     "languageId": "plaintext"
    }
   },
   "outputs": [],
   "source": [
    "class Motor:\n",
    "    def __init__(self, tipo):\n",
    "        self.tipo = tipo\n",
    "\n",
    "    def encender(self):\n",
    "        print(f\"Motor {self.tipo} encendido.\")\n",
    "\n",
    "class Carro:\n",
    "    def __init__(self, marca, tipo_motor):\n",
    "        self.marca = marca\n",
    "        self.motor = Motor(tipo_motor)  # Se crea el motor DENTRO del carro\n",
    "\n",
    "    def arrancar(self):\n",
    "        print(f\"Arrancando {self.marca}...\")\n",
    "        self.motor.encender()\n",
    "\n",
    "# Uso\n",
    "mi_carro = Carro(\"Toyota\", \"V8\")\n",
    "mi_carro.arrancar()"
   ]
  }
 ],
 "metadata": {
  "language_info": {
   "name": "python"
  }
 },
 "nbformat": 4,
 "nbformat_minor": 5
}

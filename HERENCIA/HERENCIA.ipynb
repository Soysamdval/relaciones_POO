{
 "cells": [
  {
   "cell_type": "code",
   "execution_count": 2,
   "id": "a3a441a5",
   "metadata": {},
   "outputs": [
    {
     "name": "stdout",
     "output_type": "stream",
     "text": [
      "Firulais está comiendo.\n",
      "Mish está comiendo.\n",
      "Firulais dice: ¡Guau!\n",
      "Mish dice: ¡Miau!\n"
     ]
    }
   ],
   "source": [
    "# Clase base o superclase\n",
    "class Animal:\n",
    "    def __init__(self, nombre):\n",
    "        self.nombre = nombre  # Atributo común a todos los animales\n",
    "\n",
    "    def comer(self):\n",
    "        print(f\"{self.nombre} está comiendo.\")\n",
    "\n",
    "# Clase derivada o subclase: Perro\n",
    "class Perro(Animal):\n",
    "    def ladrar(self):\n",
    "        print(f\"{self.nombre} dice: ¡Guau!\")\n",
    "\n",
    "# Clase derivada o subclase: Gato\n",
    "class Gato(Animal):\n",
    "    def maullar(self):\n",
    "        print(f\"{self.nombre} dice: ¡Miau!\")\n",
    "\n",
    "# ===============================\n",
    "# USO DEL CÓDIGO\n",
    "# ===============================\n",
    "\n",
    "# Creamos un perro y un gato\n",
    "mi_perro = Perro(\"Firulais\")\n",
    "mi_gato = Gato(\"Mish\")\n",
    "\n",
    "# Ambos pueden comer (heredado de Animal)\n",
    "mi_perro.comer()  # Firulais está comiendo.\n",
    "mi_gato.comer()   # Mish está comiendo.\n",
    "\n",
    "# Pero también tienen comportamientos propios\n",
    "mi_perro.ladrar()  # Firulais dice: ¡Guau!\n",
    "mi_gato.maullar()  # Mish dice: ¡Miau!\n"
   ]
  },
  {
   "cell_type": "markdown",
   "id": "8764c403",
   "metadata": {},
   "source": []
  }
 ],
 "metadata": {
  "kernelspec": {
   "display_name": "Python 3",
   "language": "python",
   "name": "python3"
  },
  "language_info": {
   "codemirror_mode": {
    "name": "ipython",
    "version": 3
   },
   "file_extension": ".py",
   "mimetype": "text/x-python",
   "name": "python",
   "nbconvert_exporter": "python",
   "pygments_lexer": "ipython3",
   "version": "3.13.5"
  }
 },
 "nbformat": 4,
 "nbformat_minor": 5
}
